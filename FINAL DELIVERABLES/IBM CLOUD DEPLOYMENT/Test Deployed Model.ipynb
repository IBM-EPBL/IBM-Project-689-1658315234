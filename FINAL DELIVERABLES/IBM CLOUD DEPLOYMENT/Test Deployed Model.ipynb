{
 "cells": [
  {
   "cell_type": "code",
   "execution_count": 2,
   "metadata": {},
   "outputs": [],
   "source": [
    "import requests\n",
    "import numpy as np\n",
    "from PIL import Image\n",
    "import matplotlib.pyplot as plt"
   ]
  },
  {
   "cell_type": "code",
   "execution_count": 3,
   "metadata": {},
   "outputs": [],
   "source": [
    "img = Image.open(r\"C:\\Users\\sathi\\Downloads\\Dinesh_IBM_FInal\\IBM\\FINAL DELIVERABLES\\FINAL CODE\\sample\\0.jpg\").convert(\"L\")  \n",
    "img = img.resize((28, 28))  \n",
    "img_arr = np.array(img)  \n",
    "img_arr = img_arr.reshape(1, 28, 28, 1) \n",
    "\n",
    "img = Image.open(r\"C:\\Users\\sathi\\Downloads\\Dinesh_IBM_FInal\\IBM\\FINAL DELIVERABLES\\FINAL CODE\\sample\\\\1.jpg\").convert(\"L\")  \n",
    "img = img.resize((28, 28))  \n",
    "img2_arr = np.array(img)  \n",
    "img2_arr = img2_arr.reshape(1, 28, 28, 1) "
   ]
  },
  {
   "cell_type": "code",
   "execution_count": 44,
   "metadata": {},
   "outputs": [],
   "source": [
    "API_KEY = \"sChLJQZr4O1qPT1FJmTt_17kjdbbofyoAipv-mCFWnD_\" \n",
    "\n",
    "token_response = requests.post('https://iam.cloud.ibm.com/identity/token', \n",
    "                               data={\"apikey\": API_KEY, \"grant_type\": 'urn:ibm:params:oauth:grant-type:apikey'})\n",
    "\n",
    "mltoken = token_response.json()[\"access_token\"]\n",
    "\n",
    "header = {'Content-Type': 'application/json', 'Authorization': 'Bearer ' + mltoken}\n",
    "\n",
    "payload_scoring = {\"input_data\": [{\"fields\": [], \"values\": [img_arr.tolist(), img2_arr.tolist()]}]}\n",
    "\n",
    "response_scoring = requests.post('https://us-south.ml.cloud.ibm.com/ml/v4/deployments/b266eba3-c550-4752-90db-0aac600ff447/predictions?version=2022-11-19', \n",
    "                                 json=payload_scoring, headers={'Authorization': 'Bearer ' + mltoken})"
   ]
  },
  {
   "cell_type": "code",
   "execution_count": 8,
   "metadata": {},
   "outputs": [
    {
     "data": {
      "image/png": "[encoded data removed]",
      "text/plain": [
       "<Figure size 432x288 with 1 Axes>"
      ]
     },
     "metadata": {
      "needs_background": "light"
     },
     "output_type": "display_data"
    },
    {
     "name": "stdout",
     "output_type": "stream",
     "text": [
      "Result:  0\n"
     ]
    }
   ],
   "source": [
    "plt.imshow(plt.imread(r\"C:\\Users\\sathi\\Downloads\\Dinesh_IBM_FInal\\IBM\\FINAL DELIVERABLES\\FINAL CODE\\sample\\0.jpg\"))\n",
    "plt.axis('off')\n",
    "plt.show()\n",
    "print(\"Result: \",response_scoring.json()['predictions'][0]['values'][0][1])"
   ]
  },
  {
   "cell_type": "code",
   "execution_count": 10,
   "metadata": {},
   "outputs": [
    {
     "data": {
      "image/png": "[encoded data removed]",
      "text/plain": [
       "<Figure size 432x288 with 1 Axes>"
      ]
     },
     "metadata": {
      "needs_background": "light"
     },
     "output_type": "display_data"
    },
    {
     "name": "stdout",
     "output_type": "stream",
     "text": [
      "Result:  1\n"
     ]
    }
   ],
   "source": [
    "plt.imshow(plt.imread(r\"C:\\Users\\sathi\\Downloads\\Dinesh_IBM_FInal\\IBM\\FINAL DELIVERABLES\\FINAL CODE\\sample\\\\1.jpg\"))\n",
    "plt.axis('off')\n",
    "plt.show()\n",
    "print(\"Result: \",response_scoring.json()['predictions'][0]['values'][1][1]))"
   ]
  }
 ],
 "metadata": {
  "kernelspec": {
   "display_name": "Python 3 (ipykernel)",
   "language": "python",
   "name": "python3"
  },
  "language_info": {
   "codemirror_mode": {
    "name": "ipython",
    "version": 3
   },
   "file_extension": ".py",
   "mimetype": "text/x-python",
   "name": "python",
   "nbconvert_exporter": "python",
   "pygments_lexer": "ipython3",
   "version": "3.7.13"
  },
  "vscode": {
   "interpreter": {
    "hash": "b44dd5391d1f6e5d1ea35168ceb9f49bbb889e06b54d7e78b00fc83fefb8e536"
   }
  }
 },
 "nbformat": 4,
 "nbformat_minor": 2
}
